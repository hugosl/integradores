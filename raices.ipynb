{
 "cells": [
  {
   "cell_type": "code",
   "execution_count": 13,
   "metadata": {
    "collapsed": false
   },
   "outputs": [],
   "source": [
    "from pylab import *\n",
    "%matplotlib inline"
   ]
  },
  {
   "cell_type": "code",
   "execution_count": 14,
   "metadata": {
    "collapsed": false
   },
   "outputs": [],
   "source": [
    "def raiz_bip(func,x_i,x_d,err=1e-5):\n",
    "    raiz = 0.5*(x_i+x_d)\n",
    "    y_i,y_d = func(x_i), func(x_d)\n",
    "    n = 0\n",
    "    while abs(raiz-x_d)>= err  and abs(y_i-y_d)>= err:\n",
    "        y_m = func(raiz)\n",
    "        if y_m == 0.:\n",
    "            break\n",
    "        if y_m*y_i < 0:\n",
    "            x_d = raiz\n",
    "        else:\n",
    "            x_i = raiz\n",
    "        raiz = 0.5*(x_i+x_d)\n",
    "        y_i,y_d = func(x_i), func(x_d)\n",
    "        n += 1\n",
    "        print \"paso \",n,\" raiz=\",raiz\n",
    "    return raiz\n",
    "    "
   ]
  },
  {
   "cell_type": "code",
   "execution_count": 15,
   "metadata": {
    "collapsed": false
   },
   "outputs": [
    {
     "data": {
      "image/png": "[encoded data removed]",
      "text/plain": [
       "<matplotlib.figure.Figure at 0x7fc1a3594150>"
      ]
     },
     "metadata": {},
     "output_type": "display_data"
    }
   ],
   "source": [
    "x=linspace(3,4)\n",
    "plot(x,sin(x))\n",
    "grid(True)\n",
    "show()"
   ]
  },
  {
   "cell_type": "code",
   "execution_count": 16,
   "metadata": {
    "collapsed": false
   },
   "outputs": [
    {
     "name": "stdout",
     "output_type": "stream",
     "text": [
      "la raiz es:  0.0\n"
     ]
    }
   ],
   "source": [
    "print \"la raiz es: \",raiz_bip(sin,-1,1,1e-10)\n"
   ]
  },
  {
   "cell_type": "code",
   "execution_count": 17,
   "metadata": {
    "collapsed": false
   },
   "outputs": [],
   "source": [
    "def mi_newton_1(func,d_func,x_ini,err=1e-8):\n",
    "    n=0\n",
    "    while abs(func(x_ini))>= err:\n",
    "        print n,\"\\t\",x_ini\n",
    "        raiz = x_ini -func(x_ini)/d_func(x_ini)\n",
    "        x_ini = raiz\n",
    "        n +=1\n",
    "    return raiz   \n",
    "    "
   ]
  },
  {
   "cell_type": "code",
   "execution_count": 18,
   "metadata": {
    "collapsed": false
   },
   "outputs": [
    {
     "name": "stdout",
     "output_type": "stream",
     "text": [
      "0 \t2\n",
      "1 \t4.18503986326\n",
      "2 \t2.46789367451\n",
      "3 \t3.26618627757\n",
      "4 \t3.14094391232\n",
      "3.14159265368\n"
     ]
    }
   ],
   "source": [
    "print mi_newton_1(sin,cos,2)"
   ]
  },
  {
   "cell_type": "code",
   "execution_count": 19,
   "metadata": {
    "collapsed": false
   },
   "outputs": [],
   "source": [
    "def una_funcion(x):\n",
    "    return (x-1)**5\n",
    "def d_una_funcion(x):\n",
    "    return 5*(x-1)**4"
   ]
  },
  {
   "cell_type": "code",
   "execution_count": 20,
   "metadata": {
    "collapsed": false
   },
   "outputs": [
    {
     "data": {
      "image/png": "[encoded data removed]",
      "text/plain": [
       "<matplotlib.figure.Figure at 0x7fc1a3481990>"
      ]
     },
     "metadata": {},
     "output_type": "display_data"
    }
   ],
   "source": [
    "x=linspace(0,2)\n",
    "plot(x,una_funcion(x))\n",
    "show()"
   ]
  },
  {
   "cell_type": "code",
   "execution_count": 21,
   "metadata": {
    "collapsed": false
   },
   "outputs": [
    {
     "name": "stdout",
     "output_type": "stream",
     "text": [
      "la raiz es:  1.0\n"
     ]
    }
   ],
   "source": [
    "print \"la raiz es: \",raiz_bip(una_funcion,0,2)\n"
   ]
  },
  {
   "cell_type": "code",
   "execution_count": 22,
   "metadata": {
    "collapsed": false
   },
   "outputs": [
    {
     "name": "stdout",
     "output_type": "stream",
     "text": [
      "0 \t-2\n",
      "1 \t-1\n",
      "2 \t0\n",
      "1\n"
     ]
    }
   ],
   "source": [
    "print mi_newton_1(una_funcion,d_una_funcion,-2)"
   ]
  },
  {
   "cell_type": "code",
   "execution_count": 23,
   "metadata": {
    "collapsed": false
   },
   "outputs": [],
   "source": [
    "def raiz_bip(func,x_i,x_d,err=1e-8):\n",
    "    raiz = 0.5*(x_i+x_d)\n",
    "    y_i,y_d = func(x_i), func(x_d)\n",
    "    n = 0\n",
    "    while abs(raiz-x_d)>= err:  \n",
    "        y_m = func(raiz)\n",
    "        if y_m == 0.:\n",
    "            break\n",
    "        if y_m*y_i < 0:\n",
    "            x_d = raiz\n",
    "        else:\n",
    "            x_i = raiz\n",
    "        raiz = 0.5*(x_i+x_d)\n",
    "        y_i,y_d = func(x_i), func(x_d)\n",
    "        n += 1\n",
    "        print n,\"\\t\",raiz\n",
    "    return raiz"
   ]
  },
  {
   "cell_type": "code",
   "execution_count": 24,
   "metadata": {
    "collapsed": false
   },
   "outputs": [
    {
     "name": "stdout",
     "output_type": "stream",
     "text": [
      "1 \t3.0\n",
      "2 \t3.5\n",
      "3 \t3.25\n",
      "4 \t3.125\n",
      "5 \t3.1875\n",
      "6 \t3.15625\n",
      "7 \t3.140625\n",
      "8 \t3.1484375\n",
      "9 \t3.14453125\n",
      "10 \t3.142578125\n",
      "11 \t3.1416015625\n",
      "12 \t3.14111328125\n",
      "13 \t3.14135742188\n",
      "14 \t3.14147949219\n",
      "15 \t3.14154052734\n",
      "16 \t3.14157104492\n",
      "17 \t3.14158630371\n",
      "18 \t3.14159393311\n",
      "19 \t3.14159011841\n",
      "20 \t3.14159202576\n",
      "21 \t3.14159297943\n",
      "22 \t3.14159250259\n",
      "23 \t3.14159274101\n",
      "24 \t3.1415926218\n",
      "25 \t3.14159268141\n",
      "26 \t3.14159265161\n",
      "27 \t3.14159266651\n",
      "28 \t3.14159265906\n",
      "3.14159265906\n"
     ]
    }
   ],
   "source": [
    "print raiz_bip(sin,0,4)"
   ]
  },
  {
   "cell_type": "code",
   "execution_count": 39,
   "metadata": {
    "collapsed": false
   },
   "outputs": [],
   "source": [
    "def fun_de_alumno(x):\n",
    "    return (tan(sqrt(pi-x*8)))**3+x**2\n",
    "def d_fun_de_alumno(x):\n",
    "    return 2*x-((12*(tan(sqrt(pi-x*8)))**2)/(sqrt(pi-x*8)))*((tan(sqrt(pi-x*8)))**2 +1 )"
   ]
  },
  {
   "cell_type": "code",
   "execution_count": 40,
   "metadata": {
    "collapsed": false
   },
   "outputs": [
    {
     "data": {
      "image/png": "[encoded data removed]",
      "text/plain": [
       "<matplotlib.figure.Figure at 0x7fc1a3650150>"
      ]
     },
     "metadata": {},
     "output_type": "display_data"
    }
   ],
   "source": [
    "x=linspace(-5,0,100)\n",
    "ylim((-30,30))\n",
    "plot(x,una_funcion_2(x),'-')\n",
    "plot([-2.94267812371],[0],'o')\n",
    "plot([-0.456490404904],[0],'o')\n",
    "grid(True)\n",
    "show()"
   ]
  },
  {
   "cell_type": "code",
   "execution_count": 41,
   "metadata": {
    "collapsed": false
   },
   "outputs": [
    {
     "name": "stdout",
     "output_type": "stream",
     "text": [
      "1 \t-2.95\n",
      "2 \t-2.925\n",
      "3 \t-2.9375\n",
      "4 \t-2.94375\n",
      "5 \t-2.940625\n",
      "6 \t-2.9421875\n",
      "7 \t-2.94296875\n",
      "8 \t-2.942578125\n",
      "9 \t-2.9427734375\n",
      "10 \t-2.94267578125\n",
      "11 \t-2.94272460938\n",
      "12 \t-2.94270019531\n",
      "13 \t-2.94268798828\n",
      "14 \t-2.94268188477\n",
      "15 \t-2.94267883301\n",
      "16 \t-2.94267730713\n",
      "17 \t-2.94267807007\n",
      "18 \t-2.94267845154\n",
      "19 \t-2.9426782608\n",
      "20 \t-2.94267816544\n",
      "21 \t-2.94267811775\n",
      "22 \t-2.94267814159\n",
      "23 \t-2.94267812967\n",
      "24 \t-2.94267812371\n",
      "-2.94267812371\n"
     ]
    }
   ],
   "source": [
    "print raiz_bip(fun_de_alumno,-3,-2.8)"
   ]
  },
  {
   "cell_type": "code",
   "execution_count": 42,
   "metadata": {
    "collapsed": false
   },
   "outputs": [
    {
     "name": "stdout",
     "output_type": "stream",
     "text": [
      "1 \t-0.5\n",
      "2 \t-0.25\n",
      "3 \t-0.375\n",
      "4 \t-0.4375\n",
      "5 \t-0.46875\n",
      "6 \t-0.453125\n",
      "7 \t-0.4609375\n",
      "8 \t-0.45703125\n",
      "9 \t-0.455078125\n",
      "10 \t-0.4560546875\n",
      "11 \t-0.45654296875\n",
      "12 \t-0.456298828125\n",
      "13 \t-0.456420898438\n",
      "14 \t-0.456481933594\n",
      "15 \t-0.456512451172\n",
      "16 \t-0.456497192383\n",
      "17 \t-0.456489562988\n",
      "18 \t-0.456493377686\n",
      "19 \t-0.456491470337\n",
      "20 \t-0.456490516663\n",
      "21 \t-0.456490039825\n",
      "22 \t-0.456490278244\n",
      "23 \t-0.456490397453\n",
      "24 \t-0.456490457058\n",
      "25 \t-0.456490427256\n",
      "26 \t-0.456490412354\n",
      "27 \t-0.456490404904\n",
      "-0.456490404904\n"
     ]
    }
   ],
   "source": [
    "print raiz_bip(fun_de_alumno,-2,0)"
   ]
  },
  {
   "cell_type": "code",
   "execution_count": 44,
   "metadata": {
    "collapsed": false
   },
   "outputs": [
    {
     "name": "stdout",
     "output_type": "stream",
     "text": [
      "0 \t-4\n",
      "1 \t-2.08230265647\n",
      "2 \t-1.98223724368\n",
      "3 \t-1.84419531028\n",
      "4 \t-1.64410621601\n",
      "5 \t-1.33678988885\n",
      "6 \t-0.890969748627\n",
      "7 \t-0.449053221684\n",
      "8 \t-0.456323592672\n",
      "9 \t-0.456490317248\n",
      "-0.4564904006\n"
     ]
    }
   ],
   "source": [
    "print mi_newton_1(fun_de_alumno,d_fun_de_alumno,-4)"
   ]
  },
  {
   "cell_type": "code",
   "execution_count": 45,
   "metadata": {
    "collapsed": false
   },
   "outputs": [
    {
     "name": "stdout",
     "output_type": "stream",
     "text": [
      "0 \t1.56079632679\n",
      "1 \t-98.4358703176\n",
      "2 \t-96.706614104\n",
      "3 \t-97.5198474962\n",
      "4 \t-97.3886267904\n",
      "-97.3893722614\n",
      "0 \t1.58079632679\n",
      "1 \t101.577462971\n",
      "2 \t99.8482067576\n",
      "3 \t100.66144015\n",
      "4 \t100.530219444\n",
      "100.530964915\n"
     ]
    }
   ],
   "source": [
    "print mi_newton_1(sin,cos,pi/2-0.01)\n",
    "print mi_newton_1(sin,cos,pi/2+0.01)"
   ]
  },
  {
   "cell_type": "code",
   "execution_count": 47,
   "metadata": {
    "collapsed": false
   },
   "outputs": [],
   "source": [
    "def num_dev(f,x,h=1e-4):\n",
    "    return (f(x+h)-f(x-h))/(2.*h)"
   ]
  },
  {
   "cell_type": "code",
   "execution_count": 51,
   "metadata": {
    "collapsed": true
   },
   "outputs": [],
   "source": [
    "def mi_newton_2(func,x_ini,err=1e-8):\n",
    "    n=0\n",
    "    while abs(func(x_ini))>= err:\n",
    "        print n,\"\\t\",x_ini\n",
    "        raiz = x_ini -func(x_ini)/num_dev(func,x_ini)\n",
    "        x_ini = raiz\n",
    "        n +=1\n",
    "    return raiz   \n",
    "    "
   ]
  },
  {
   "cell_type": "code",
   "execution_count": 53,
   "metadata": {
    "collapsed": false
   },
   "outputs": [
    {
     "name": "stdout",
     "output_type": "stream",
     "text": [
      "0 \t1.67079632679\n",
      "1 \t11.6374407667\n",
      "2 \t12.9753246623\n",
      "3 \t12.5419364293\n",
      "4 \t12.5663754782\n",
      "12.5663706144\n",
      "12.5663706144\n"
     ]
    }
   ],
   "source": [
    "print mi_newton_2(sin,pi/2+0.1)\n",
    "print 4*pi"
   ]
  },
  {
   "cell_type": "code",
   "execution_count": 55,
   "metadata": {
    "collapsed": false
   },
   "outputs": [],
   "source": [
    "def num_dev_mejorado(f,x,h=1e-4):\n",
    "    return (-f(x+2*h)+8*f(x+h)-8*f(x-h) + f(x-2*h))/(12.*h)"
   ]
  },
  {
   "cell_type": "code",
   "execution_count": 57,
   "metadata": {
    "collapsed": false
   },
   "outputs": [
    {
     "name": "stdout",
     "output_type": "stream",
     "text": [
      "0.923879532511\n",
      "0.923879530972\n",
      "0.923879532511\n"
     ]
    }
   ],
   "source": [
    "a=pi/8\n",
    "print cos(a)\n",
    "print num_dev(sin,a)\n",
    "print num_dev_mejorado(sin,a)"
   ]
  },
  {
   "cell_type": "code",
   "execution_count": null,
   "metadata": {
    "collapsed": true
   },
   "outputs": [],
   "source": []
  }
 ],
 "metadata": {
  "kernelspec": {
   "display_name": "Python [Root]",
   "language": "python",
   "name": "Python [Root]"
  },
  "language_info": {
   "codemirror_mode": {
    "name": "ipython",
    "version": 2
   },
   "file_extension": ".py",
   "mimetype": "text/x-python",
   "name": "python",
   "nbconvert_exporter": "python",
   "pygments_lexer": "ipython2",
   "version": "2.7.12"
  }
 },
 "nbformat": 4,
 "nbformat_minor": 0
}
