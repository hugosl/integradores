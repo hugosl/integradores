{
 "cells": [
  {
   "cell_type": "code",
   "execution_count": 1,
   "metadata": {
    "collapsed": true
   },
   "outputs": [],
   "source": [
    "from sympy import *\n",
    "init_printing()"
   ]
  },
  {
   "cell_type": "code",
   "execution_count": 2,
   "metadata": {
    "collapsed": false
   },
   "outputs": [
    {
     "data": {
      "image/png": "[encoded data removed]",
      "text/latex": [
       "$$x^{2} + \\tan^{3}{\\left (\\sqrt{- 8 x + \\pi} \\right )}$$"
      ],
      "text/plain": [
       " 2      3⎛  __________⎞\n",
       "x  + tan ⎝╲╱ -8⋅x + π ⎠"
      ]
     },
     "execution_count": 2,
     "metadata": {},
     "output_type": "execute_result"
    }
   ],
   "source": [
    "x = Symbol('x')\n",
    "f = (tan(sqrt(pi-x*8)))**3 + x**2\n",
    "f"
   ]
  },
  {
   "cell_type": "code",
   "execution_count": 4,
   "metadata": {
    "collapsed": false
   },
   "outputs": [
    {
     "data": {
      "image/png": "[encoded data removed]",
      "text/latex": [
       "$$2 x - \\frac{12 \\tan^{2}{\\left (\\sqrt{- 8 x + \\pi} \\right )}}{\\sqrt{- 8 x + \\pi}} \\left(\\tan^{2}{\\left (\\sqrt{- 8 x + \\pi} \\right )} + 1\\right)$$"
      ],
      "text/plain": [
       "         ⎛   2⎛  __________⎞    ⎞    2⎛  __________⎞\n",
       "      12⋅⎝tan ⎝╲╱ -8⋅x + π ⎠ + 1⎠⋅tan ⎝╲╱ -8⋅x + π ⎠\n",
       "2⋅x - ──────────────────────────────────────────────\n",
       "                         __________                 \n",
       "                       ╲╱ -8⋅x + π                  "
      ]
     },
     "execution_count": 4,
     "metadata": {},
     "output_type": "execute_result"
    }
   ],
   "source": [
    "f.diff(x)"
   ]
  },
  {
   "cell_type": "code",
   "execution_count": null,
   "metadata": {
    "collapsed": true
   },
   "outputs": [],
   "source": []
  },
  {
   "cell_type": "code",
   "execution_count": null,
   "metadata": {
    "collapsed": true
   },
   "outputs": [],
   "source": []
  }
 ],
 "metadata": {
  "kernelspec": {
   "display_name": "Python [Root]",
   "language": "python",
   "name": "Python [Root]"
  },
  "language_info": {
   "codemirror_mode": {
    "name": "ipython",
    "version": 2
   },
   "file_extension": ".py",
   "mimetype": "text/x-python",
   "name": "python",
   "nbconvert_exporter": "python",
   "pygments_lexer": "ipython2",
   "version": "2.7.12"
  }
 },
 "nbformat": 4,
 "nbformat_minor": 0
}
